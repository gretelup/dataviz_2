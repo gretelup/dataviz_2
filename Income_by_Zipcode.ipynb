{
 "cells": [
  {
   "cell_type": "code",
   "execution_count": 1,
   "metadata": {},
   "outputs": [],
   "source": [
    "#Import dependencies\n",
    "import pandas as pd\n",
    "import numpy as np\n",
    "import os"
   ]
  },
  {
   "cell_type": "code",
   "execution_count": 2,
   "metadata": {},
   "outputs": [],
   "source": [
    "# Import CSV and convert to dataframes\n",
    "IncomeZip_df = pd.read_csv(os.path.join(\"Resources\", \"income_zip.csv\"))\n",
    "zip_df = pd.read_csv(os.path.join(\"Resources\", \"zip.csv\"))"
   ]
  },
  {
   "cell_type": "code",
   "execution_count": 3,
   "metadata": {},
   "outputs": [
    {
     "data": {
      "text/plain": [
       "ZIP           int64\n",
       "MED_INCOME    int64\n",
       "dtype: object"
      ]
     },
     "execution_count": 3,
     "metadata": {},
     "output_type": "execute_result"
    }
   ],
   "source": [
    "# Clean Income dataframe\n",
    "\n",
    "# Select desired columns for data frame\n",
    "IncomeZip_df = IncomeZip_df[['GEO.display-label', 'HC01_EST_VC13']]\n",
    "\n",
    "#Rename columns \n",
    "IncomeZip_df = IncomeZip_df.rename( index=str, columns = {\"GEO.display-label\": \"ZIP\",\"HC01_EST_VC13\": \"MED_INCOME\"})\n",
    "\n",
    "# Verify no missing data\n",
    "IncomeZip_df.isnull().sum()\n",
    "\n",
    "# Find duplicate rows\n",
    "IncomeZip_df[IncomeZip_df.duplicated(['ZIP'])]\n",
    "\n",
    "#Verify correct data stypes\n",
    "IncomeZip_df.dtypes\n",
    "\n",
    "# Inspect data \n",
    "IncomeZip_df.MED_INCOME.unique()\n",
    "\n",
    "IncomeZip_df = IncomeZip_df.replace(\"N\", None)\n",
    "\n",
    "# Replace missing values and invalid values with None\n",
    "IncomeZip_df = IncomeZip_df.replace([\"-\", \"250,000+\"], None)\n",
    "\n",
    "# Remove extra characters from zip code\n",
    "temp_df = IncomeZip_df[\"ZIP\"].str.split(\" \", n = 1, expand = True)\n",
    "IncomeZip_df[\"ZIP\"] = temp_df[1]\n",
    "\n",
    "# Drop the first row\n",
    "IncomeZip_df = IncomeZip_df.drop(IncomeZip_df.index[0])\n",
    "\n",
    "# Change income column to interger value\n",
    "IncomeZip_df[\"MED_INCOME\"] = IncomeZip_df[\"MED_INCOME\"].astype('int64')\n",
    "IncomeZip_df[\"ZIP\"] = IncomeZip_df[\"ZIP\"].astype('int64')\n",
    "\n",
    "# Verify correct data types\n",
    "IncomeZip_df.dtypes"
   ]
  },
  {
   "cell_type": "code",
   "execution_count": 4,
   "metadata": {},
   "outputs": [
    {
     "data": {
      "text/plain": [
       "ZIP      int64\n",
       "LAT    float64\n",
       "LNG    float64\n",
       "dtype: object"
      ]
     },
     "execution_count": 4,
     "metadata": {},
     "output_type": "execute_result"
    }
   ],
   "source": [
    "# Clean Zip code dataframe\n",
    "zip_df.head()\n",
    "\n",
    "#Drop all ZIPs that are not in NJ\n",
    "zip_df = zip_df.merge(IncomeZip_df, how=\"right\", on = \"ZIP\").drop(labels = \"MED_INCOME\", axis =1)\n",
    "\n",
    "# Verify no missing data\n",
    "zip_df.isnull().sum()\n",
    "\n",
    "# Find duplicate rows\n",
    "zip_df[zip_df.duplicated(['ZIP'])]\n",
    "\n",
    "# Verify data are of the correct type\n",
    "zip_df.dtypes"
   ]
  }
 ],
 "metadata": {
  "kernelspec": {
   "display_name": "Python 3",
   "language": "python",
   "name": "python3"
  },
  "language_info": {
   "codemirror_mode": {
    "name": "ipython",
    "version": 3
   },
   "file_extension": ".py",
   "mimetype": "text/x-python",
   "name": "python",
   "nbconvert_exporter": "python",
   "pygments_lexer": "ipython3",
   "version": "3.7.1"
  }
 },
 "nbformat": 4,
 "nbformat_minor": 2
}
