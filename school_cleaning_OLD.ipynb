{
 "cells": [
  {
   "cell_type": "code",
   "execution_count": 63,
   "metadata": {},
   "outputs": [],
   "source": [
    "# Import Dependencies\n",
    "import pandas as pd\n",
    "import os"
   ]
  },
  {
   "cell_type": "code",
   "execution_count": 71,
   "metadata": {},
   "outputs": [],
   "source": [
    "# Import CSV and convert to dataframes\n",
    "contact_df = pd.read_csv(os.path.join(\"Resources\", \"school_contact.csv\"))\n",
    "ratio_df = pd.read_csv(os.path.join(\"Resources\", \"school_ratio.csv\"))\n",
    "exp_df = pd.read_csv(os.path.join(\"Resources\", \"school_exp.csv\"))\n",
    "test_df = pd.read_csv(os.path.join(\"Resources\", \"school_test.csv\"))"
   ]
  },
  {
   "cell_type": "markdown",
   "metadata": {},
   "source": [
    "#### Clean contact dataframe"
   ]
  },
  {
   "cell_type": "code",
   "execution_count": 65,
   "metadata": {},
   "outputs": [
    {
     "data": {
      "text/plain": [
       "array(['05-08', 'PK-04', '09-12', 'PK-08', 'KG-08', 'PK-PK', 'PK-05',\n",
       "       '06-08', 'KG-02', 'PK-02', '03-05', 'PK-03', '04-08', '04-05',\n",
       "       'KG-06', '07-08', 'PK-06', 'PK-01', 'KG-05', 'PK-12', 'KG-12',\n",
       "       '07-12', '01-06', '01-08', '02-04', '03-06', '04-06', 'PK-KG',\n",
       "       '01-03', '03-08', 'KG-03', '06-12', 'KG-04', '03-03', '01-04',\n",
       "       '01-12', '02-06', 'KG-01', '06-07', '02-03', '05-06', '06-06',\n",
       "       '01-02', 'KG-10', 'PK-09', '03-04', '09-10', '05-05', '08-12',\n",
       "       '05-12', 'PK-07', '08-09', '02-12', '02-05', '01-05', '09-09',\n",
       "       '10-12', '11-12', '07-09', 'KG-KG', '02-08', '06-09', '03-07',\n",
       "       '02-02', '12-12', 'PK-10', 'KG-07', 'KG-11', 'KG-09'], dtype=object)"
      ]
     },
     "execution_count": 65,
     "metadata": {},
     "output_type": "execute_result"
    }
   ],
   "source": [
    "# Drop unnecessary columns\n",
    "contact_df = contact_df[[\"DISTRICT_CODE\", \"DISTRICT_NAME\", \"SCHOOL_CODE\", \"SCHOOL_NAME\", \"GRADESPAN\"]]\n",
    "\n",
    "# Verify no missing data\n",
    "contact_df.isnull().sum()\n",
    "\n",
    "# Verify data are of correct type\n",
    "contact_df.dtypes\n",
    "\n",
    "# Add leading zeros to district and school codes\n",
    "contact_df[\"DISTRICT_CODE\"] = contact_df[\"DISTRICT_CODE\"].apply(lambda x: \"{0:0>4}\".format(x))\n",
    "contact_df[\"SCHOOL_CODE\"] = contact_df[\"SCHOOL_CODE\"].apply(lambda x: \"{0:0>3}\".format(x))\n",
    "\n",
    "# Create unique key column from district and school codes\n",
    "contact_df[\"DS_CODE\"] = contact_df[\"DISTRICT_CODE\"].map(str) + \"-\" + contact_df[\"SCHOOL_CODE\"].map(str)\n",
    "\n",
    "# Verify no duplicate district-school codes\n",
    "contact_df[contact_df.duplicated(['DS_CODE'])]\n",
    "\n",
    "# Verify no incorrect data in grade span\n",
    "contact_df.GRADESPAN.unique()"
   ]
  },
  {
   "cell_type": "markdown",
   "metadata": {},
   "source": [
    "#### Clean ratio dataframe"
   ]
  },
  {
   "cell_type": "code",
   "execution_count": 66,
   "metadata": {},
   "outputs": [
    {
     "data": {
      "text/plain": [
       "DISTRICT_CODE    object\n",
       "SCHOOL_CODE      object\n",
       "SCH_RAT           int64\n",
       "DIST_RAT          int64\n",
       "DS_CODE          object\n",
       "dtype: object"
      ]
     },
     "execution_count": 66,
     "metadata": {},
     "output_type": "execute_result"
    }
   ],
   "source": [
    "# Drop and rename columns\n",
    "ratio_df = ratio_df[[\"DistrictCode\", \"SchoolCode\", \"Student_Teacher_School\", \"Student_Teacher_District\"]]\n",
    "ratio_df = ratio_df.rename(columns={\"DistrictCode\": \"DISTRICT_CODE\", \"SchoolCode\": \"SCHOOL_CODE\", \\\n",
    "                                    \"Student_Teacher_School\": \"SCH_RAT\", \"Student_Teacher_District\": \"DIST_RAT\"})\n",
    "\n",
    "# Verify no missing data\n",
    "ratio_df.isnull().sum()\n",
    "\n",
    "# Verify data are of correct type\n",
    "ratio_df.dtypes\n",
    "\n",
    "# Add leading zeros to district and school codes\n",
    "ratio_df[\"DISTRICT_CODE\"] = ratio_df[\"DISTRICT_CODE\"].apply(lambda x: \"{0:0>4}\".format(x))\n",
    "ratio_df[\"SCHOOL_CODE\"] = ratio_df[\"SCHOOL_CODE\"].apply(lambda x: \"{0:0>3}\".format(x))\n",
    "\n",
    "# Create unique key column from district and school codes\n",
    "ratio_df[\"DS_CODE\"] = ratio_df[\"DISTRICT_CODE\"].map(str) + \"-\" + ratio_df[\"SCHOOL_CODE\"].map(str)\n",
    "\n",
    "# Verify no duplicate district-school codes\n",
    "ratio_df[ratio_df.duplicated(['DS_CODE'])]\n",
    "\n",
    "# Review ratios to verify no junk data\n",
    "ratio_df.SCH_RAT.unique()\n",
    "\n",
    "# Replaced \"N\" values and likely inaccurate values with None\n",
    "ratio_df = ratio_df.replace([\"148:1\", \"53:1\", \"56:1\", \"50:1\", \"152:1\", \"66:1\", \"106:1\", \"74:1\",\\\n",
    "                             \"245:1\", \"268:1\", \"520:1\", \"327:1\", \"N\"], None)\n",
    "\n",
    "# Convert ratios to a single number and cast them as integers\n",
    "temp_df = ratio_df[\"SCH_RAT\"].str.split(\":\", n = 1, expand = True)\n",
    "ratio_df[\"SCH_RAT\"] = temp_df[0].astype('int64')\n",
    "\n",
    "temp_df = ratio_df[\"DIST_RAT\"].str.split(\":\", n = 1, expand = True)\n",
    "ratio_df[\"DIST_RAT\"] = temp_df[0].astype('int64')\n",
    "\n",
    "# Verify values are of the correct type\n",
    "ratio_df.dtypes"
   ]
  },
  {
   "cell_type": "markdown",
   "metadata": {},
   "source": [
    "#### Clean expense dataframe"
   ]
  },
  {
   "cell_type": "code",
   "execution_count": 67,
   "metadata": {},
   "outputs": [
    {
     "data": {
      "text/plain": [
       "DISTRICT_CODE    object\n",
       "EXPENSE           int64\n",
       "dtype: object"
      ]
     },
     "execution_count": 67,
     "metadata": {},
     "output_type": "execute_result"
    }
   ],
   "source": [
    "# Drop and rename columns\n",
    "exp_df = exp_df[[\"DistrictCode\", \"Total\"]]\n",
    "exp_df = exp_df.rename(columns={\"DistrictCode\": \"DISTRICT_CODE\", \"Total\": \"EXPENSE\"})\n",
    "\n",
    "# Verify no null values\n",
    "exp_df.isnull().sum()\n",
    "\n",
    "# Verify no duplicate districts\n",
    "exp_df[exp_df.duplicated([\"DISTRICT_CODE\"])]\n",
    "\n",
    "# Add leading zeros to district code\n",
    "exp_df[\"DISTRICT_CODE\"] = exp_df[\"DISTRICT_CODE\"].apply(lambda x: \"{0:0>4}\".format(x))\n",
    "\n",
    "# Inspect expense values; clean and format expense column; replace missing values with None; cast as integer\n",
    "exp_df.EXPENSE.unique()\n",
    "exp_df = exp_df.replace(\"N\", None)\n",
    "exp_df[\"EXPENSE\"] = exp_df[\"EXPENSE\"].astype('int64')\n",
    "\n",
    "# Verify values are of the correct type\n",
    "exp_df.dtypes"
   ]
  },
  {
   "cell_type": "markdown",
   "metadata": {},
   "source": [
    "#### Clean test dataframe"
   ]
  },
  {
   "cell_type": "code",
   "execution_count": 72,
   "metadata": {},
   "outputs": [
    {
     "data": {
      "text/plain": [
       "DISTRICT_CODE    object\n",
       "SCHOOL_CODE      object\n",
       "TEST             object\n",
       "Subject          object\n",
       "SCH_AVG           int64\n",
       "STATE_AVG         int64\n",
       "DS_CODE          object\n",
       "dtype: object"
      ]
     },
     "execution_count": 72,
     "metadata": {},
     "output_type": "execute_result"
    }
   ],
   "source": [
    "# Drop and rename columns\n",
    "test_df = test_df[[\"DistrictCode\", \"SchoolCode\", \"Test\", \"Subject\", \"School_Avg\", \"State_avg\"]]\n",
    "test_df = test_df.rename(columns={\"DistrictCode\": \"DISTRICT_CODE\", \"SchoolCode\": \"SCHOOL_CODE\",\\\n",
    "                                  \"SchoolCode\": \"SCHOOL_CODE\", \"Test\": \"TEST\",\"School_Avg\": \"SCH_AVG\", \\\n",
    "                                  \"State_avg\": \"STATE_AVG\"})\n",
    "\n",
    "# Verify no missing data\n",
    "test_df.isnull().sum()\n",
    "\n",
    "# Drop any duplicate rows\n",
    "test_df.drop_duplicates()\n",
    "\n",
    "# Add leading zeros to district and school codes\n",
    "test_df[\"DISTRICT_CODE\"] = test_df[\"DISTRICT_CODE\"].apply(lambda x: \"{0:0>4}\".format(x))\n",
    "test_df[\"SCHOOL_CODE\"] = test_df[\"SCHOOL_CODE\"].apply(lambda x: \"{0:0>3}\".format(x))\n",
    "\n",
    "\n",
    "# Create unique key column from district and school codes\n",
    "test_df[\"DS_CODE\"] = test_df[\"DISTRICT_CODE\"].map(str) + \"-\" + test_df[\"SCHOOL_CODE\"].map(str)\n",
    "\n",
    "# Review ACT scores to verify no missing values and scores within valid range\n",
    "ACT_df = test_df[test_df['TEST'].str.contains('ACT')]\n",
    "ACT_df.SCH_AVG.unique()\n",
    "ACT_df.STATE_AVG.unique()\n",
    "\n",
    "# Review SAT scores to verify no missing values and scores within valid range\n",
    "SAT_df = test_df[test_df['TEST'].str.contains('SAT')]\n",
    "SAT_df.SCH_AVG.unique()\n",
    "SAT_df.STATE_AVG.unique()\n",
    "\n",
    "# Replace missing values with None and cast as integer\n",
    "test_df = test_df.replace([\"N\", \"*\"], None)\n",
    "test_df[\"SCH_AVG\"] = test_df[\"SCH_AVG\"].astype('int64')\n",
    "\n",
    "# Verify values are of the correct type\n",
    "test_df.dtypes\n",
    "\n",
    "# Filter only SAT scores and separate into columns for Math and English\n",
    "test_df = test_df.loc[test_df['TEST'] == \"SAT\"]\n",
    "math_df = test_df.loc[test_df[\"Subject\"] == \"Math\"]\n",
    "english_df = test_df.loc[test_df[\"Subject\"] == \"Reading and Writing\"]\n",
    "english_df = english_df[[\"DS_CODE\", \"Subject\", \"SCH_AVG\", \"STATE_AVG\"]]\n",
    "english_df = english_df.rename(columns={\"SCH_AVG\": \"ENG_SCH_AVG\", \"STATE_AVG\": \"ENG_STATE_AVG\"})\n",
    "math_df = math_df.rename(columns={\"SCH_AVG\": \"MATH_SCH_AVG\", \"STATE_AVG\": \"MATH_STATE_AVG\"})\n",
    "math_df = math_df[[\"Subject\", \"MATH_SCH_AVG\", \"MATH_STATE_AVG\", \"DS_CODE\"]]\n",
    "test_df = math_df.merge(english_df, on=\"DS_CODE\", how=\"outer\")\n",
    "test_df = test_df.drop(labels = {\"Subject_x\", \"Subject_y\"}, axis = 1)\n",
    "\n",
    "# Verify no missing data\n",
    "test_df.isnull().sum()"
   ]
  },
  {
   "cell_type": "code",
   "execution_count": 74,
   "metadata": {},
   "outputs": [],
   "source": [
    "contact_df.to_csv(os.path.join('Data_temp', 'school_contact_cleaned.csv'))\n",
    "ratio_df.to_csv(os.path.join('Data_temp', 'school_ratio_cleaned.csv'))\n",
    "exp_df.to_csv(os.path.join('Data_temp', 'school_expense_cleaned.csv'))\n",
    "test_df.to_csv(os.path.join('Data_temp', 'school_test_cleaned.csv'))"
   ]
  }
 ],
 "metadata": {
  "kernelspec": {
   "display_name": "Python 3",
   "language": "python",
   "name": "python3"
  },
  "language_info": {
   "codemirror_mode": {
    "name": "ipython",
    "version": 3
   },
   "file_extension": ".py",
   "mimetype": "text/x-python",
   "name": "python",
   "nbconvert_exporter": "python",
   "pygments_lexer": "ipython3",
   "version": "3.7.3"
  }
 },
 "nbformat": 4,
 "nbformat_minor": 2
}
