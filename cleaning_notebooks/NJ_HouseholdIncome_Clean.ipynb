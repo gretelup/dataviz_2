{
 "cells": [
  {
   "cell_type": "code",
   "execution_count": 1,
   "metadata": {},
   "outputs": [],
   "source": [
    "#Import Dependencies\n",
    "import pandas as pd\n",
    "import os"
   ]
  },
  {
   "cell_type": "code",
   "execution_count": 2,
   "metadata": {},
   "outputs": [],
   "source": [
    "# Import CSV and convert to dataframes\n",
    "income_df = pd.read_csv(os.path.join(\"Resources\", \"NJ_Household_Income.csv\"))"
   ]
  },
  {
   "cell_type": "code",
   "execution_count": 3,
   "metadata": {},
   "outputs": [
    {
     "data": {
      "text/plain": [
       "COUNTY    object\n",
       "INCOME     int64\n",
       "dtype: object"
      ]
     },
     "execution_count": 3,
     "metadata": {},
     "output_type": "execute_result"
    }
   ],
   "source": [
    "# Drop and rename unnecessary columns and rows\n",
    "income_df = income_df[[\"County\", \"Household Income\"]]\n",
    "income_df = income_df.drop(income_df.index[0])\n",
    "income_df = income_df.rename(columns={\"County\": \"COUNTY\", \"Household Income\": \"INCOME\"})\n",
    "\n",
    "\n",
    " # Verify no missing data\n",
    "income_df.isnull().sum()\n",
    "\n",
    "# Drop any duplicate rows\n",
    "income_df = income_df.drop_duplicates()\n",
    "\n",
    "# Review income to verify data is valid\n",
    "income_df.INCOME.unique()\n",
    "\n",
    "# Verify data is of correct type\n",
    "income_df.dtypes"
   ]
  }
 ],
 "metadata": {
  "kernelspec": {
   "display_name": "Python 3",
   "language": "python",
   "name": "python3"
  },
  "language_info": {
   "codemirror_mode": {
    "name": "ipython",
    "version": 3
   },
   "file_extension": ".py",
   "mimetype": "text/x-python",
   "name": "python",
   "nbconvert_exporter": "python",
   "pygments_lexer": "ipython3",
   "version": "3.7.1"
  }
 },
 "nbformat": 4,
 "nbformat_minor": 2
}
