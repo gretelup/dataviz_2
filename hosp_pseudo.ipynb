{
 "cells": [
  {
   "cell_type": "code",
   "execution_count": null,
   "metadata": {},
   "outputs": [],
   "source": [
    "# Dependencies\n",
    "import requests\n",
    "import pandas"
   ]
  },
  {
   "cell_type": "code",
   "execution_count": null,
   "metadata": {},
   "outputs": [],
   "source": [
    "url = \"httpwhatever\""
   ]
  },
  {
   "cell_type": "code",
   "execution_count": null,
   "metadata": {},
   "outputs": [],
   "source": [
    "# Keep this in a separate cell and only run it when you need to\n",
    "\n",
    "hospitals = requests.get(url).json()"
   ]
  },
  {
   "cell_type": "code",
   "execution_count": null,
   "metadata": {},
   "outputs": [],
   "source": [
    "# Use this to view the json data\n",
    "\n",
    "parsed = json.loads(hospitals)\n",
    "print(json.dumps(parsed, indent=4, sort_keys=True))"
   ]
  },
  {
   "cell_type": "code",
   "execution_count": null,
   "metadata": {},
   "outputs": [],
   "source": [
    "# Before you do the loop, find individual values for a single hospital first (ignore filtering for NJ at this stage)\n",
    "# example\n",
    "\n",
    "name = hospital[0][\"key\"][\"another key\"][3][etc]\n",
    "rank = hospital[... etc]\n",
    "\n",
    "print(name)\n",
    "print(rank)"
   ]
  },
  {
   "cell_type": "code",
   "execution_count": null,
   "metadata": {},
   "outputs": [],
   "source": [
    "hospitals_NJ = []\n",
    "\n",
    "for hospital in hospitals:\n",
    "    state = hospital[key][next key][drillown until you get to the right key]\n",
    "    if state == \"NJ\":\n",
    "        print(something for testing to let you know what it's doing)\n",
    "#         create a dictionary hosp_dict with the key-value pairs you want\n",
    "        hosp_dict = {\"NAME\": hospital[\"key\"][\"key\"], \"RANK\": hospital[\"key\"][0], \"LAT\"... etc}\n",
    "        append the dictionary to the list\n",
    "        hospitals_NJ.append(hosp_dict)\n",
    "    else:\n",
    "        print(something for testing purposes so you know it's not matching this data)\n",
    "\n"
   ]
  },
  {
   "cell_type": "code",
   "execution_count": null,
   "metadata": {},
   "outputs": [],
   "source": [
    "# Put list of dictionaries into a dataframe\n",
    "hospitals_df = pd.DataFrame(hospitals_NJ)"
   ]
  },
  {
   "cell_type": "code",
   "execution_count": null,
   "metadata": {},
   "outputs": [],
   "source": [
    "# Clean data - you can look at my school notebook for ideas\n",
    "# Check for missing data, duplicates, ridiculous data, etc.\n",
    "# Fill missing data with None\n",
    "# Keep track of everything you throw away and why\n",
    "# Make sure the values are cast as the correct type (e.g., ranking data has to be a number)\n"
   ]
  }
 ],
 "metadata": {
  "kernelspec": {
   "display_name": "PythonData",
   "language": "python",
   "name": "pythondata"
  },
  "language_info": {
   "codemirror_mode": {
    "name": "ipython",
    "version": 3
   },
   "file_extension": ".py",
   "mimetype": "text/x-python",
   "name": "python",
   "nbconvert_exporter": "python",
   "pygments_lexer": "ipython3",
   "version": "3.7.3"
  }
 },
 "nbformat": 4,
 "nbformat_minor": 2
}
