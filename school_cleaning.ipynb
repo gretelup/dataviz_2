{
 "cells": [
  {
   "cell_type": "code",
   "execution_count": 1,
   "metadata": {},
   "outputs": [],
   "source": [
    "# Import Dependencies\n",
    "import pandas as pd\n",
    "import numpy as np\n",
    "import os"
   ]
  },
  {
   "cell_type": "code",
   "execution_count": 2,
   "metadata": {},
   "outputs": [],
   "source": [
    "# Import CSV and convert to dataframes\n",
    "contact_df = pd.read_csv(os.path.join(\"Resources\", \"school_contact.csv\"))\n",
    "ratio_df = pd.read_csv(os.path.join(\"Resources\", \"school_ratio.csv\"))\n",
    "exp_df = pd.read_csv(os.path.join(\"Resources\", \"school_exp.csv\"))\n",
    "test_df = pd.read_csv(os.path.join(\"Resources\", \"school_test.csv\"))"
   ]
  },
  {
   "cell_type": "markdown",
   "metadata": {},
   "source": [
    "#### Clean contact dataframe"
   ]
  },
  {
   "cell_type": "code",
   "execution_count": 3,
   "metadata": {},
   "outputs": [
    {
     "data": {
      "text/plain": [
       "array(['05-08', 'PK-04', '09-12', 'PK-08', 'KG-08', 'PK-PK', 'PK-05',\n",
       "       '06-08', 'KG-02', 'PK-02', '03-05', 'PK-03', '04-08', '04-05',\n",
       "       'KG-06', '07-08', 'PK-06', 'PK-01', 'KG-05', 'PK-12', 'KG-12',\n",
       "       '07-12', '01-06', '01-08', '02-04', '03-06', '04-06', 'PK-KG',\n",
       "       '01-03', '03-08', 'KG-03', '06-12', 'KG-04', '03-03', '01-04',\n",
       "       '01-12', '02-06', 'KG-01', '06-07', '02-03', '05-06', '06-06',\n",
       "       '01-02', 'KG-10', 'PK-09', '03-04', '09-10', '05-05', '08-12',\n",
       "       '05-12', 'PK-07', '08-09', '02-12', '02-05', '01-05', '09-09',\n",
       "       '10-12', '11-12', '07-09', 'KG-KG', '02-08', '06-09', '03-07',\n",
       "       '02-02', '12-12', 'PK-10', 'KG-07', 'KG-11', 'KG-09'], dtype=object)"
      ]
     },
     "execution_count": 3,
     "metadata": {},
     "output_type": "execute_result"
    }
   ],
   "source": [
    "# Drop unnecessary columns\n",
    "contact_df = contact_df[[\"DISTRICT_CODE\", \"DISTRICT_NAME\", \"SCHOOL_CODE\", \"SCHOOL_NAME\", \"GRADESPAN\"]]\n",
    "\n",
    "# Verify no missing data\n",
    "contact_df.isnull().sum()\n",
    "\n",
    "# Verify data are of correct type\n",
    "contact_df.dtypes\n",
    "\n",
    "# Create unique key column from district and school codes\n",
    "contact_df[\"DS_CODE\"] = contact_df[\"DISTRICT_CODE\"].map(str) + \"-\" + contact_df[\"SCHOOL_CODE\"].map(str)\n",
    "\n",
    "# Verify no duplicate district-school codes\n",
    "contact_df[contact_df.duplicated(['DS_CODE'])]\n",
    "\n",
    "# Verify no incorrect data in grade span\n",
    "contact_df.GRADESPAN.unique()"
   ]
  },
  {
   "cell_type": "markdown",
   "metadata": {},
   "source": [
    "#### Clean ratio dataframe"
   ]
  },
  {
   "cell_type": "code",
   "execution_count": 4,
   "metadata": {},
   "outputs": [],
   "source": [
    "# Drop and rename columns\n",
    "ratio_df = ratio_df[[\"DistrictCode\", \"SchoolCode\", \"Student_Teacher_School\", \"Student_Teacher_District\", \"SchoolName\"]]\n",
    "ratio_df = ratio_df.rename(columns={\"DistrictCode\": \"DISTRICT_CODE\", \"SchoolCode\": \"SCHOOL_CODE\", \\\n",
    "                                    \"Student_Teacher_School\": \"SCH_RAT\", \"Student_Teacher_District\": \"DIST_RAT\"})\n",
    "\n",
    "# Verify no missing data\n",
    "ratio_df.isnull().sum()\n",
    "\n",
    "# Verify data are of correct type\n",
    "ratio_df.dtypes\n",
    "\n",
    "# Create unique key column from district and school codes\n",
    "ratio_df[\"DS_CODE\"] = ratio_df[\"DISTRICT_CODE\"].map(str) + \"-\" + ratio_df[\"SCHOOL_CODE\"].map(str)\n",
    "\n",
    "# Verify no duplicate district-school codes\n",
    "ratio_df[ratio_df.duplicated(['DS_CODE'])]\n",
    "\n",
    "# Review ratios to verify no junk data\n",
    "ratio_df.SCH_RAT.unique()\n",
    "\n",
    "# Based on research, we decided probable inaccurate data would be values greater than 50:1\n",
    "# So as to provide as little inaccurate data as possible, replaced these values with nulls\n",
    "# Also replace \"N\" values with \"Not Available\"\n",
    "\n",
    "ratio_df = ratio_df.replace([\"148:1\", \"53:1\", \"56:1\", \"50:1\", \"152:1\", \"66:1\", \"106:1\", \"74:1\",\\\n",
    "                             \"245:1\", \"268:1\", \"520:1\", \"327:1\", \"N\"], \"Not Available\")"
   ]
  },
  {
   "cell_type": "markdown",
   "metadata": {},
   "source": [
    "#### Clean expense dataframe"
   ]
  },
  {
   "cell_type": "code",
   "execution_count": 5,
   "metadata": {},
   "outputs": [],
   "source": [
    "# Drop and rename columns\n",
    "exp_df = exp_df[[\"DistrictCode\", \"Total\"]]\n",
    "exp_df = exp_df.rename(columns={\"DistrictCode\": \"DISTRICT_CODE\", \"Total\": \"EXPENSE\"})\n",
    "\n",
    "# Verify no null values\n",
    "exp_df.isnull().sum()\n",
    "\n",
    "# Verify no duplicate districts\n",
    "exp_df[exp_df.duplicated([\"DISTRICT_CODE\"])]\n",
    "\n",
    "# Inspect expense values; clean and format expense column; replace missing values with \"Not Available\"\n",
    "exp_df.EXPENSE.unique()\n",
    "exp_df = exp_df.replace(\"N\", \"0\")\n",
    "exp_df[\"EXPENSE\"] = exp_df[\"EXPENSE\"].astype('int64')\n",
    "exp_df[\"EXPENSE\"] = exp_df[\"EXPENSE\"].map(\"${:,.0f}\".format)\n",
    "exp_df = exp_df.replace(\"$0\", \"Not Available\")"
   ]
  },
  {
   "cell_type": "markdown",
   "metadata": {},
   "source": [
    "#### Clean SAT dataframe"
   ]
  },
  {
   "cell_type": "code",
   "execution_count": 6,
   "metadata": {},
   "outputs": [
    {
     "ename": "NameError",
     "evalue": "name 'SAT_df' is not defined",
     "output_type": "error",
     "traceback": [
      "\u001b[0;31m---------------------------------------------------------------------------\u001b[0m",
      "\u001b[0;31mNameError\u001b[0m                                 Traceback (most recent call last)",
      "\u001b[0;32m<ipython-input-6-f0abd0f83002>\u001b[0m in \u001b[0;36m<module>\u001b[0;34m\u001b[0m\n\u001b[0;32m----> 1\u001b[0;31m \u001b[0mSAT_df\u001b[0m \u001b[0;34m=\u001b[0m \u001b[0mSAT_df\u001b[0m\u001b[0;34m[\u001b[0m\u001b[0;34m[\u001b[0m\u001b[0;34m\"DistrictCode\"\u001b[0m\u001b[0;34m,\u001b[0m \u001b[0;34m\"Test\"\u001b[0m\u001b[0;34m,\u001b[0m \u001b[0;34m\"Subject\"\u001b[0m\u001b[0;34m,\u001b[0m \u001b[0;34m\"District_Avg\"\u001b[0m\u001b[0;34m,\u001b[0m \u001b[0;34m\"State_avg\"\u001b[0m\u001b[0;34m]\u001b[0m\u001b[0;34m]\u001b[0m\u001b[0;34m\u001b[0m\u001b[0;34m\u001b[0m\u001b[0m\n\u001b[0m\u001b[1;32m      2\u001b[0m \u001b[0mSAT_df\u001b[0m \u001b[0;34m=\u001b[0m \u001b[0mSAT_df\u001b[0m\u001b[0;34m.\u001b[0m\u001b[0mrename\u001b[0m\u001b[0;34m(\u001b[0m\u001b[0mcolumns\u001b[0m\u001b[0;34m=\u001b[0m\u001b[0;34m{\u001b[0m\u001b[0;34m\"DistrictCode\"\u001b[0m\u001b[0;34m:\u001b[0m \u001b[0;34m\"DISTRICT_CODE\"\u001b[0m\u001b[0;34m,\u001b[0m \u001b[0;34m\"District_Avg\"\u001b[0m\u001b[0;34m:\u001b[0m \u001b[0;34m\"DIST_AVG\"\u001b[0m\u001b[0;34m,\u001b[0m \u001b[0;34m\"State_avg\"\u001b[0m\u001b[0;34m:\u001b[0m \u001b[0;34m\"STATE_AVG\"\u001b[0m\u001b[0;34m}\u001b[0m\u001b[0;34m)\u001b[0m\u001b[0;34m\u001b[0m\u001b[0;34m\u001b[0m\u001b[0m\n",
      "\u001b[0;31mNameError\u001b[0m: name 'SAT_df' is not defined"
     ]
    }
   ],
   "source": [
    "SAT_df = SAT_df[[\"DistrictCode\", \"Test\", \"Subject\", \"District_Avg\", \"State_avg\"]]\n",
    "SAT_df = SAT_df.rename(columns={\"DistrictCode\": \"DISTRICT_CODE\", \"District_Avg\": \"DIST_AVG\", \"State_avg\": \"STATE_AVG\"})"
   ]
  },
  {
   "cell_type": "code",
   "execution_count": null,
   "metadata": {},
   "outputs": [],
   "source": []
  },
  {
   "cell_type": "code",
   "execution_count": null,
   "metadata": {},
   "outputs": [],
   "source": []
  }
 ],
 "metadata": {
  "kernelspec": {
   "display_name": "Python 3",
   "language": "python",
   "name": "python3"
  },
  "language_info": {
   "codemirror_mode": {
    "name": "ipython",
    "version": 3
   },
   "file_extension": ".py",
   "mimetype": "text/x-python",
   "name": "python",
   "nbconvert_exporter": "python",
   "pygments_lexer": "ipython3",
   "version": "3.7.1"
  }
 },
 "nbformat": 4,
 "nbformat_minor": 2
}
