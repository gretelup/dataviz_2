{
 "cells": [
  {
   "cell_type": "code",
   "execution_count": 1,
   "metadata": {},
   "outputs": [],
   "source": [
    "# Import Dependencies\n",
    "import pandas as pd\n",
    "import numpy as np\n",
    "import os"
   ]
  },
  {
   "cell_type": "code",
   "execution_count": 11,
   "metadata": {},
   "outputs": [],
   "source": [
    "# Import CSV and convert to dataframes\n",
    "contact_df = pd.read_csv(os.path.join(\"Resources\", \"contact.csv\"))\n",
    "ratio_df = pd.read_csv(os.path.join(\"Resources\", \"studentratio.csv\"))\n",
    "exp_df = pd.read_csv(os.path.join(\"Resources\", \"expenditure.csv\"))\n",
    "SAT_df = pd.read_csv(os.path.join(\"Resources\", \"SAT.csv\"))"
   ]
  },
  {
   "cell_type": "markdown",
   "metadata": {},
   "source": [
    "#### Clean contact dataframe"
   ]
  },
  {
   "cell_type": "code",
   "execution_count": 3,
   "metadata": {},
   "outputs": [
    {
     "data": {
      "text/plain": [
       "DISTRICT_CODE     int64\n",
       "GRADESPAN        object\n",
       "dtype: object"
      ]
     },
     "execution_count": 3,
     "metadata": {},
     "output_type": "execute_result"
    }
   ],
   "source": [
    "# Drop unnecessary columns\n",
    "contact_df = contact_df[[\"DISTRICT_CODE\", \"GRADESPAN\"]]\n",
    "\n",
    "# Verify no missing data\n",
    "contact_df.isnull().sum()\n",
    "\n",
    "# Verify no incorrect data in grade span\n",
    "contact_df.GRADESPAN.unique()\n",
    "\n",
    "# Verify no duplicate district codes\n",
    "contact_df[contact_df.duplicated(['DISTRICT_CODE'])]\n",
    "\n",
    "# Verify data are of correct type\n",
    "contact_df.dtypes"
   ]
  },
  {
   "cell_type": "markdown",
   "metadata": {},
   "source": [
    "#### Clean ratio dataframe"
   ]
  },
  {
   "cell_type": "code",
   "execution_count": 12,
   "metadata": {},
   "outputs": [
    {
     "data": {
      "text/plain": [
       "DISTRICT_CODE     int64\n",
       "RATIO            object\n",
       "dtype: object"
      ]
     },
     "execution_count": 12,
     "metadata": {},
     "output_type": "execute_result"
    }
   ],
   "source": [
    "# Drop and rename columns\n",
    "ratio_df = ratio_df[[\"DistrictCode\", \"Student_Teacher_District\"]]\n",
    "ratio_df = ratio_df.rename(columns={\"DistrictCode\": \"DISTRICT_CODE\", \"Student_Teacher_District\": \"RATIO\"})\n",
    "\n",
    "# Verify no null values\n",
    "ratio_df.isnull().sum()\n",
    "\n",
    "# Clean district column, verify no duplicate data, and cast as integer\n",
    "ratio_df = ratio_df[ratio_df.DISTRICT_CODE != 'State']\n",
    "ratio_df[ratio_df.duplicated([\"DISTRICT_CODE\"])]\n",
    "ratio_df[\"DISTRICT_CODE\"] = ratio_df[\"DISTRICT_CODE\"].astype('int64')\n",
    "\n",
    "# Inspect ratio values to verify data are valid; replace junk values with null\n",
    "ratio_df.RATIO.unique()\n",
    "ratio_df = ratio_df.replace(\"139:1\", None)\n",
    "ratio_df = ratio_df.replace(\"N\", None)\n",
    "\n",
    "# Verify data are of correct type\n",
    "ratio_df.dtypes"
   ]
  },
  {
   "cell_type": "markdown",
   "metadata": {},
   "source": [
    "#### Clean expense dataframe"
   ]
  },
  {
   "cell_type": "code",
   "execution_count": 5,
   "metadata": {},
   "outputs": [
    {
     "data": {
      "text/plain": [
       "DISTRICT_CODE     int64\n",
       "EXPENSE          object\n",
       "dtype: object"
      ]
     },
     "execution_count": 5,
     "metadata": {},
     "output_type": "execute_result"
    }
   ],
   "source": [
    "# Drop and rename columns\n",
    "exp_df = exp_df[[\"DistrictCode\", \"Total\"]]\n",
    "exp_df = exp_df.rename(columns={\"DistrictCode\": \"DISTRICT_CODE\", \"Total\": \"EXPENSE\"})\n",
    "\n",
    "# Verify no null values\n",
    "exp_df.isnull().sum()\n",
    "\n",
    "# Clean district column\n",
    "exp_df = exp_df[exp_df.DISTRICT_CODE != 'State']\n",
    "exp_df[exp_df.duplicated([\"DISTRICT_CODE\"])]\n",
    "exp_df[\"DISTRICT_CODE\"] = exp_df[\"DISTRICT_CODE\"].astype('int64')\n",
    "\n",
    "# Inspect expense values; clean and format expense column; replace missing values with null\n",
    "\n",
    "exp_df.EXPENSE.unique()\n",
    "exp_df = exp_df.replace(\"N\", \"0\")\n",
    "exp_df[\"EXPENSE\"] = exp_df[\"EXPENSE\"].astype('int64')\n",
    "exp_df[\"EXPENSE\"] = exp_df[\"EXPENSE\"].map(\"${:,.0f}\".format)\n",
    "exp_df = exp_df.replace(\"$0\", None)\n",
    "\n",
    "# Verify data are of correct type\n",
    "exp_df.dtypes"
   ]
  },
  {
   "cell_type": "markdown",
   "metadata": {},
   "source": [
    "#### Clean SAT dataframe"
   ]
  },
  {
   "cell_type": "code",
   "execution_count": 14,
   "metadata": {},
   "outputs": [],
   "source": [
    "SAT_df = SAT_df[[\"DistrictCode\", \"Test\", \"Subject\", \"District_Avg\", \"State_avg\"]]\n",
    "SAT_df = SAT_df.rename(columns={\"DistrictCode\": \"DISTRICT_CODE\", \"District_Avg\": \"DIST_AVG\", \"State_avg\": \"STATE_AVG\"})"
   ]
  },
  {
   "cell_type": "code",
   "execution_count": 17,
   "metadata": {},
   "outputs": [
    {
     "data": {
      "text/plain": [
       "DISTRICT_CODE    0\n",
       "Test             0\n",
       "Subject          0\n",
       "DIST_AVG         8\n",
       "STATE_AVG        0\n",
       "dtype: int64"
      ]
     },
     "execution_count": 17,
     "metadata": {},
     "output_type": "execute_result"
    }
   ],
   "source": []
  },
  {
   "cell_type": "code",
   "execution_count": null,
   "metadata": {},
   "outputs": [],
   "source": []
  }
 ],
 "metadata": {
  "kernelspec": {
   "display_name": "PythonData",
   "language": "python",
   "name": "pythondata"
  },
  "language_info": {
   "codemirror_mode": {
    "name": "ipython",
    "version": 3
   },
   "file_extension": ".py",
   "mimetype": "text/x-python",
   "name": "python",
   "nbconvert_exporter": "python",
   "pygments_lexer": "ipython3",
   "version": "3.7.3"
  }
 },
 "nbformat": 4,
 "nbformat_minor": 2
}
