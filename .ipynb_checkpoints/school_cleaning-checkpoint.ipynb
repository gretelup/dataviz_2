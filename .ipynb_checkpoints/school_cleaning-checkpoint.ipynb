{
 "cells": [
  {
   "cell_type": "code",
   "execution_count": 1,
   "metadata": {},
   "outputs": [],
   "source": [
    "# Import Dependencies\n",
    "\n",
    "import pandas as pd\n",
    "import numpy as np\n",
    "import os"
   ]
  },
  {
   "cell_type": "code",
   "execution_count": 2,
   "metadata": {},
   "outputs": [],
   "source": [
    "# Import CSV and convert to dataframes\n",
    "contact_df = pd.read_csv(os.path.join(\"Resources\", \"contact.csv\"))\n",
    "ratio_df = pd.read_csv(os.path.join(\"Resources\", \"studentratio.csv\"))\n",
    "SAT_df = pd.read_csv(os.path.join(\"Resources\", \"SAT.csv\"))\n",
    "exp_df = pd.read_csv(os.path.join(\"Resources\", \"expenditure.csv\"))"
   ]
  },
  {
   "cell_type": "markdown",
   "metadata": {},
   "source": [
    "#### Clean contact dataframe"
   ]
  },
  {
   "cell_type": "code",
   "execution_count": 3,
   "metadata": {},
   "outputs": [
    {
     "data": {
      "text/plain": [
       "DISTRICT_CODE     int64\n",
       "GRADESPAN        object\n",
       "dtype: object"
      ]
     },
     "execution_count": 3,
     "metadata": {},
     "output_type": "execute_result"
    }
   ],
   "source": [
    "# Drop unecessary columns\n",
    "contact_df = contact_df[[\"DISTRICT_CODE\", \"GRADESPAN\"]]\n",
    "\n",
    "# Verify no missing data\n",
    "contact_df.isnull().sum()\n",
    "\n",
    "# Verify no incorrect data in grade span\n",
    "contact_df.GRADESPAN.unique()\n",
    "\n",
    "# Verify no duplicate district codes\n",
    "contact_df[contact_df.duplicated(['DISTRICT_CODE'])]\n",
    "\n",
    "# Verify data are of correct type\n",
    "contact_df.dtypes"
   ]
  },
  {
   "cell_type": "markdown",
   "metadata": {},
   "source": [
    "#### Clean ratio dataframe"
   ]
  },
  {
   "cell_type": "code",
   "execution_count": 4,
   "metadata": {},
   "outputs": [],
   "source": [
    "# Drop unnecessary columns\n",
    "ratio_df = ratio_df[[\"DistrictCode\", \"Student_Teacher_District\"]]\n",
    "\n",
    "# Rename columns\n",
    "ratio_df = ratio_df.rename(columns={\"DistrictCode\": \"DISTRICT_CODE\", \"Student_Teacher_District\": \"RATIO\"})\n",
    "\n",
    "# Verify no missing data\n",
    "ratio_df.isnull().sum()\n",
    "\n",
    "# Verify no duplicate district codes\n",
    "ratio_df[ratio_df.duplicated([\"DISTRICT_CODE\"])]\n",
    "\n",
    "# Verify no incorrect data in ratio\n",
    "contact_df.RATIO.unique()\n",
    "\n",
    "# Remove state row\n",
    "ratio_df = ratio_df[ratio_df.DISTRICT_CODE != 'State']\n",
    "\n",
    "# Fill \"N\" values with \"Not Available\"\n",
    "ratio_df = ratio_df.replace(\"N\", \"Not Available\")\n",
    "\n",
    "# Cast district code as integer\n",
    "ratio_df[\"DISTRICT_CODE\"] = ratio_df[\"DISTRICT_CODE\"].astype('int64')\n",
    "\n",
    "# Verify data are of correct type\n",
    "ratio_df.dtypes"
   ]
  },
  {
   "cell_type": "code",
   "execution_count": 9,
   "metadata": {},
   "outputs": [
    {
     "data": {
      "text/plain": [
       "array(['13:1', '11:1', '12:1', '6:1', '8:1', '10:1', '14:1', '7:1', '9:1',\n",
       "       '3:1', '16:1', 'N', '4:1', '20:1', '18:1', '5:1', '1:1', '15:1',\n",
       "       '139:1', '2:1', '17:1', '32:1', '19:1'], dtype=object)"
      ]
     },
     "execution_count": 9,
     "metadata": {},
     "output_type": "execute_result"
    }
   ],
   "source": []
  },
  {
   "cell_type": "code",
   "execution_count": 10,
   "metadata": {},
   "outputs": [],
   "source": []
  },
  {
   "cell_type": "code",
   "execution_count": 11,
   "metadata": {},
   "outputs": [
    {
     "data": {
      "text/plain": [
       "array(['13:1', '11:1', '12:1', '6:1', '8:1', '10:1', '14:1', '7:1', '9:1',\n",
       "       '3:1', '16:1', 'Not Available', '4:1', '20:1', '18:1', '5:1',\n",
       "       '1:1', '15:1', '139:1', '2:1', '17:1', '32:1', '19:1'],\n",
       "      dtype=object)"
      ]
     },
     "execution_count": 11,
     "metadata": {},
     "output_type": "execute_result"
    }
   ],
   "source": []
  },
  {
   "cell_type": "code",
   "execution_count": null,
   "metadata": {},
   "outputs": [],
   "source": []
  }
 ],
 "metadata": {
  "kernelspec": {
   "display_name": "PythonData",
   "language": "python",
   "name": "pythondata"
  },
  "language_info": {
   "codemirror_mode": {
    "name": "ipython",
    "version": 3
   },
   "file_extension": ".py",
   "mimetype": "text/x-python",
   "name": "python",
   "nbconvert_exporter": "python",
   "pygments_lexer": "ipython3",
   "version": "3.7.3"
  }
 },
 "nbformat": 4,
 "nbformat_minor": 2
}
