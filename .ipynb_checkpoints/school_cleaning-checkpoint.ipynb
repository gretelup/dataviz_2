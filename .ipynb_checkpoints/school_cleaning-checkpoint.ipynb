{
 "cells": [
  {
   "cell_type": "code",
   "execution_count": 1,
   "metadata": {},
   "outputs": [],
   "source": [
    "# Import Dependencies\n",
    "import pandas as pd\n",
    "import numpy as np\n",
    "import os"
   ]
  },
  {
   "cell_type": "code",
   "execution_count": 33,
   "metadata": {},
   "outputs": [],
   "source": [
    "# Import CSV and convert to dataframes\n",
    "contact_df = pd.read_csv(os.path.join(\"Resources\", \"school_contact.csv\"))\n",
    "ratio_df = pd.read_csv(os.path.join(\"Resources\", \"school_ratio.csv\"))\n",
    "exp_df = pd.read_csv(os.path.join(\"Resources\", \"school_exp.csv\"))\n",
    "test_df = pd.read_csv(os.path.join(\"Resources\", \"school_test.csv\"))"
   ]
  },
  {
   "cell_type": "markdown",
   "metadata": {},
   "source": [
    "#### Clean contact dataframe"
   ]
  },
  {
   "cell_type": "code",
   "execution_count": 3,
   "metadata": {},
   "outputs": [
    {
     "data": {
      "text/plain": [
       "array(['05-08', 'PK-04', '09-12', 'PK-08', 'KG-08', 'PK-PK', 'PK-05',\n",
       "       '06-08', 'KG-02', 'PK-02', '03-05', 'PK-03', '04-08', '04-05',\n",
       "       'KG-06', '07-08', 'PK-06', 'PK-01', 'KG-05', 'PK-12', 'KG-12',\n",
       "       '07-12', '01-06', '01-08', '02-04', '03-06', '04-06', 'PK-KG',\n",
       "       '01-03', '03-08', 'KG-03', '06-12', 'KG-04', '03-03', '01-04',\n",
       "       '01-12', '02-06', 'KG-01', '06-07', '02-03', '05-06', '06-06',\n",
       "       '01-02', 'KG-10', 'PK-09', '03-04', '09-10', '05-05', '08-12',\n",
       "       '05-12', 'PK-07', '08-09', '02-12', '02-05', '01-05', '09-09',\n",
       "       '10-12', '11-12', '07-09', 'KG-KG', '02-08', '06-09', '03-07',\n",
       "       '02-02', '12-12', 'PK-10', 'KG-07', 'KG-11', 'KG-09'], dtype=object)"
      ]
     },
     "execution_count": 3,
     "metadata": {},
     "output_type": "execute_result"
    }
   ],
   "source": [
    "# Drop unnecessary columns\n",
    "contact_df = contact_df[[\"DISTRICT_CODE\", \"DISTRICT_NAME\", \"SCHOOL_CODE\", \"SCHOOL_NAME\", \"GRADESPAN\"]]\n",
    "\n",
    "# Verify no missing data\n",
    "contact_df.isnull().sum()\n",
    "\n",
    "# Verify data are of correct type\n",
    "contact_df.dtypes\n",
    "\n",
    "# Create unique key column from district and school codes\n",
    "contact_df[\"DS_CODE\"] = contact_df[\"DISTRICT_CODE\"].map(str) + \"-\" + contact_df[\"SCHOOL_CODE\"].map(str)\n",
    "\n",
    "# Verify no duplicate district-school codes\n",
    "contact_df[contact_df.duplicated(['DS_CODE'])]\n",
    "\n",
    "# Verify no incorrect data in grade span\n",
    "contact_df.GRADESPAN.unique()"
   ]
  },
  {
   "cell_type": "markdown",
   "metadata": {},
   "source": [
    "#### Clean ratio dataframe"
   ]
  },
  {
   "cell_type": "code",
   "execution_count": 4,
   "metadata": {},
   "outputs": [],
   "source": [
    "# Drop and rename columns\n",
    "ratio_df = ratio_df[[\"DistrictCode\", \"SchoolCode\", \"Student_Teacher_School\", \"Student_Teacher_District\", \"SchoolName\"]]\n",
    "ratio_df = ratio_df.rename(columns={\"DistrictCode\": \"DISTRICT_CODE\", \"SchoolCode\": \"SCHOOL_CODE\", \\\n",
    "                                    \"Student_Teacher_School\": \"SCH_RAT\", \"Student_Teacher_District\": \"DIST_RAT\"})\n",
    "\n",
    "# Verify no missing data\n",
    "ratio_df.isnull().sum()\n",
    "\n",
    "# Verify data are of correct type\n",
    "ratio_df.dtypes\n",
    "\n",
    "# Create unique key column from district and school codes\n",
    "ratio_df[\"DS_CODE\"] = ratio_df[\"DISTRICT_CODE\"].map(str) + \"-\" + ratio_df[\"SCHOOL_CODE\"].map(str)\n",
    "\n",
    "# Verify no duplicate district-school codes\n",
    "ratio_df[ratio_df.duplicated(['DS_CODE'])]\n",
    "\n",
    "# Review ratios to verify no junk data\n",
    "ratio_df.SCH_RAT.unique()\n",
    "\n",
    "# Based on research, we decided probable inaccurate data would be values greater than 50:1\n",
    "# So as to provide as little inaccurate data as possible, replaced these values with nulls\n",
    "# Also replace \"N\" values with \"Not Available\"\n",
    "\n",
    "ratio_df = ratio_df.replace([\"148:1\", \"53:1\", \"56:1\", \"50:1\", \"152:1\", \"66:1\", \"106:1\", \"74:1\",\\\n",
    "                             \"245:1\", \"268:1\", \"520:1\", \"327:1\", \"N\"], \"Not Available\")"
   ]
  },
  {
   "cell_type": "markdown",
   "metadata": {},
   "source": [
    "#### Clean expense dataframe"
   ]
  },
  {
   "cell_type": "code",
   "execution_count": 5,
   "metadata": {},
   "outputs": [],
   "source": [
    "# Drop and rename columns\n",
    "exp_df = exp_df[[\"DistrictCode\", \"Total\"]]\n",
    "exp_df = exp_df.rename(columns={\"DistrictCode\": \"DISTRICT_CODE\", \"Total\": \"EXPENSE\"})\n",
    "\n",
    "# Verify no null values\n",
    "exp_df.isnull().sum()\n",
    "\n",
    "# Verify no duplicate districts\n",
    "exp_df[exp_df.duplicated([\"DISTRICT_CODE\"])]\n",
    "\n",
    "# Inspect expense values; clean and format expense column; replace missing values with \"Not Available\"\n",
    "exp_df.EXPENSE.unique()\n",
    "exp_df = exp_df.replace(\"N\", \"0\")\n",
    "exp_df[\"EXPENSE\"] = exp_df[\"EXPENSE\"].astype('int64')\n",
    "exp_df[\"EXPENSE\"] = exp_df[\"EXPENSE\"].map(\"${:,.0f}\".format)\n",
    "exp_df = exp_df.replace(\"$0\", \"Not Available\")"
   ]
  },
  {
   "cell_type": "markdown",
   "metadata": {},
   "source": [
    "#### Clean test dataframe"
   ]
  },
  {
   "cell_type": "code",
   "execution_count": 35,
   "metadata": {},
   "outputs": [],
   "source": [
    "# Drop and rename columns\n",
    "test_df = test_df[[\"DistrictCode\", \"SchoolCode\", \"SchoolName\", \"Test\", \"Subject\", \"School_Avg\", \"State_avg\"]]\n",
    "test_df = test_df.rename(columns={\"DistrictCode\": \"DISTRICT_CODE\", \"SchoolCode\": \"SCHOOL_CODE\",\\\n",
    "                                  \"SchoolCode\": \"SCHOOL_CODE\", \"Test\": \"TEST\", \"School_Avg\": \"SCH_AVG\", \\\n",
    "                                  \"State_avg\": \"STATE_AVG\"})\n",
    "\n",
    "# Verify no missing data\n",
    "test_df.isnull().sum()\n",
    "\n",
    "# Drop any duplicate rows\n",
    "test_df.drop_duplicates()\n",
    "\n",
    "# Create unique key column from district and school codes\n",
    "test_df[\"DS_CODE\"] = test_df[\"DISTRICT_CODE\"].map(str) + \"-\" + test_df[\"SCHOOL_CODE\"].map(str)\n",
    "\n",
    "# Combine test and subject columns\n",
    "test_df[\"TEST\"] = test_df[\"TEST\"] + \": \" + test_df[\"Subject\"]\n",
    "test_df = test_df.drop(\"Subject\", axis = 1)"
   ]
  },
  {
   "cell_type": "code",
   "execution_count": 50,
   "metadata": {},
   "outputs": [
    {
     "data": {
      "text/plain": [
       "array([478, 543, 542])"
      ]
     },
     "execution_count": 50,
     "metadata": {},
     "output_type": "execute_result"
    }
   ],
   "source": [
    "# Review ACT scores \n",
    "ACT_df = test_df[test_df['TEST'].str.contains('ACT')]\n",
    "ACT_df.SCH_AVG.unique()\n",
    "ACT_df.STATE_AVG.unique()\n",
    "\n",
    "# Review SAT scores\n",
    "SAT_df = test_df[test_df['TEST'].str.contains('SAT')]\n",
    "SAT_df.SCH_AVG.unique()\n",
    "SAT_df.STATE_AVG.unique()"
   ]
  },
  {
   "cell_type": "code",
   "execution_count": 51,
   "metadata": {},
   "outputs": [],
   "source": [
    "test_df = test_df.replace([\"N\", \"*\"], \"Not Available\")"
   ]
  },
  {
   "cell_type": "code",
   "execution_count": 54,
   "metadata": {},
   "outputs": [
    {
     "data": {
      "text/plain": [
       "array(['428', '422', '509', '512', '451', '446', '505', '515', '469',\n",
       "       '464', '527', '462', '468', '540', '546', '461', '524', '523',\n",
       "       '435', '482', '497', '476', '557', '474', '455', '543', '534',\n",
       "       '494', '495', '558', '384', '382', '443', '701', '666', '728',\n",
       "       '692', '631', '600', '699', '662', '504', 'Not Available', '467',\n",
       "       '447', '460', '485', '449', '522', '529', '453', '513', '562',\n",
       "       '555', '607', '597', '489', '498', '549', '444', '488', '506',\n",
       "       '491', '563', '570', '475', '561', '559', '511', '593', '581',\n",
       "       '518', '520', '584', '439', '438', '554', '619', '611', '441',\n",
       "       '436', '507', '490', '487', '583', '566', '516', '514', '599',\n",
       "       '587', '437', '457', '448', '526', '539', '616', '594', '533',\n",
       "       '560', '473', '481', '465', '585', '567', '643', '625', '596',\n",
       "       '642', '624', '551', '612', '578', '499', '574', '537', '528',\n",
       "       '582', '588', '577', '544', '586', '519', '532', '590', '480',\n",
       "       '471', '547', '486', '627', '621', '605', '517', '456', '466',\n",
       "       '525', '531', '589', '682', '658', '508', '556', '492', '501',\n",
       "       '530', '496', '432', '502', '459', '463', '445', '535', '493',\n",
       "       '575', '545', '571', '573', '576', '470', '552', '478', '542',\n",
       "       '500', '452', '553', '425', '434', '538', '387', '440', '433',\n",
       "       '419', '406', '365', '367', '389', '395', '371', '359', '375',\n",
       "       '397', '393', '431', '373', '379', '399', '416', '592', '458',\n",
       "       '606', '608', '392', '424', '405', '472', '454', '536', '430',\n",
       "       '541', '503', '400', '386', '484', '413', '418', '479', '564',\n",
       "       '377', '402', '421', '429', '601', '609', '374', '603', '665',\n",
       "       '394', '426', '364', '369', '390', '423', '370', '380', '396',\n",
       "       '568', '403', '378', '368', '417', '411', '477', '362', '351',\n",
       "       '391', '407', '442', '521', '510', '591', '450', '401', '483',\n",
       "       '550', '427', '598', '629', '388', '650', '632', '415', '412',\n",
       "       '579', '565', '604', '602', '385', '618', '654', '348', '383',\n",
       "       '410', '669', '647', '690', '657', '636', '630', '548', '684',\n",
       "       '655', '767', '731', '622', '696', '409', '620', '569', '613',\n",
       "       '610', '420', '668', '679', '704', '766', '726', '671', '676',\n",
       "       '614', '714', '691', '685', '661', '746', '721', '623', '580',\n",
       "       '664', '724', '689', '372', '376', '398', '414', '663', '639',\n",
       "       '670', '641', '646', '626', '615', '595', '675', '674', '686',\n",
       "       '408'], dtype=object)"
      ]
     },
     "execution_count": 54,
     "metadata": {},
     "output_type": "execute_result"
    }
   ],
   "source": [
    "SAT_df = test_df[test_df['TEST'].str.contains('SAT')]\n",
    "SAT_df.SCH_AVG.unique()"
   ]
  },
  {
   "cell_type": "code",
   "execution_count": 53,
   "metadata": {},
   "outputs": [
    {
     "data": {
      "text/plain": [
       "array([24, 23])"
      ]
     },
     "execution_count": 53,
     "metadata": {},
     "output_type": "execute_result"
    }
   ],
   "source": []
  },
  {
   "cell_type": "code",
   "execution_count": null,
   "metadata": {},
   "outputs": [],
   "source": []
  },
  {
   "cell_type": "code",
   "execution_count": null,
   "metadata": {},
   "outputs": [],
   "source": []
  },
  {
   "cell_type": "code",
   "execution_count": 29,
   "metadata": {},
   "outputs": [],
   "source": [
    "# Verify data are of correct type\n",
    "test_df.dtypes"
   ]
  },
  {
   "cell_type": "code",
   "execution_count": 30,
   "metadata": {},
   "outputs": [
    {
     "data": {
      "text/html": [
       "<div>\n",
       "<style scoped>\n",
       "    .dataframe tbody tr th:only-of-type {\n",
       "        vertical-align: middle;\n",
       "    }\n",
       "\n",
       "    .dataframe tbody tr th {\n",
       "        vertical-align: top;\n",
       "    }\n",
       "\n",
       "    .dataframe thead th {\n",
       "        text-align: right;\n",
       "    }\n",
       "</style>\n",
       "<table border=\"1\" class=\"dataframe\">\n",
       "  <thead>\n",
       "    <tr style=\"text-align: right;\">\n",
       "      <th></th>\n",
       "      <th>DISTRICT_CODE</th>\n",
       "      <th>SCHOOL_CODE</th>\n",
       "      <th>SchoolName</th>\n",
       "      <th>TEST</th>\n",
       "      <th>SCH_AVG</th>\n",
       "      <th>STATE_AVG</th>\n",
       "      <th>DS_CODE</th>\n",
       "    </tr>\n",
       "  </thead>\n",
       "  <tbody>\n",
       "    <tr>\n",
       "      <th>0</th>\n",
       "      <td>110</td>\n",
       "      <td>10</td>\n",
       "      <td>ATLANTIC CITY HIGH SCHOOL</td>\n",
       "      <td>ACT: English</td>\n",
       "      <td>19</td>\n",
       "      <td>24</td>\n",
       "      <td>110-10</td>\n",
       "    </tr>\n",
       "    <tr>\n",
       "      <th>1</th>\n",
       "      <td>110</td>\n",
       "      <td>10</td>\n",
       "      <td>ATLANTIC CITY HIGH SCHOOL</td>\n",
       "      <td>ACT: Math</td>\n",
       "      <td>21</td>\n",
       "      <td>24</td>\n",
       "      <td>110-10</td>\n",
       "    </tr>\n",
       "    <tr>\n",
       "      <th>2</th>\n",
       "      <td>110</td>\n",
       "      <td>10</td>\n",
       "      <td>ATLANTIC CITY HIGH SCHOOL</td>\n",
       "      <td>ACT: Reading</td>\n",
       "      <td>21</td>\n",
       "      <td>24</td>\n",
       "      <td>110-10</td>\n",
       "    </tr>\n",
       "    <tr>\n",
       "      <th>3</th>\n",
       "      <td>110</td>\n",
       "      <td>10</td>\n",
       "      <td>ATLANTIC CITY HIGH SCHOOL</td>\n",
       "      <td>ACT: Science</td>\n",
       "      <td>20</td>\n",
       "      <td>23</td>\n",
       "      <td>110-10</td>\n",
       "    </tr>\n",
       "    <tr>\n",
       "      <th>4</th>\n",
       "      <td>110</td>\n",
       "      <td>10</td>\n",
       "      <td>ATLANTIC CITY HIGH SCHOOL</td>\n",
       "      <td>PSAT: Math</td>\n",
       "      <td>428</td>\n",
       "      <td>478</td>\n",
       "      <td>110-10</td>\n",
       "    </tr>\n",
       "  </tbody>\n",
       "</table>\n",
       "</div>"
      ],
      "text/plain": [
       "   DISTRICT_CODE  SCHOOL_CODE                 SchoolName          TEST  \\\n",
       "0            110           10  ATLANTIC CITY HIGH SCHOOL  ACT: English   \n",
       "1            110           10  ATLANTIC CITY HIGH SCHOOL     ACT: Math   \n",
       "2            110           10  ATLANTIC CITY HIGH SCHOOL  ACT: Reading   \n",
       "3            110           10  ATLANTIC CITY HIGH SCHOOL  ACT: Science   \n",
       "4            110           10  ATLANTIC CITY HIGH SCHOOL    PSAT: Math   \n",
       "\n",
       "  SCH_AVG  STATE_AVG DS_CODE  \n",
       "0      19         24  110-10  \n",
       "1      21         24  110-10  \n",
       "2      21         24  110-10  \n",
       "3      20         23  110-10  \n",
       "4     428        478  110-10  "
      ]
     },
     "execution_count": 30,
     "metadata": {},
     "output_type": "execute_result"
    }
   ],
   "source": [
    "\n"
   ]
  },
  {
   "cell_type": "code",
   "execution_count": 28,
   "metadata": {},
   "outputs": [
    {
     "data": {
      "text/html": [
       "<div>\n",
       "<style scoped>\n",
       "    .dataframe tbody tr th:only-of-type {\n",
       "        vertical-align: middle;\n",
       "    }\n",
       "\n",
       "    .dataframe tbody tr th {\n",
       "        vertical-align: top;\n",
       "    }\n",
       "\n",
       "    .dataframe thead th {\n",
       "        text-align: right;\n",
       "    }\n",
       "</style>\n",
       "<table border=\"1\" class=\"dataframe\">\n",
       "  <thead>\n",
       "    <tr style=\"text-align: right;\">\n",
       "      <th></th>\n",
       "      <th>DISTRICT_CODE</th>\n",
       "      <th>SCHOOL_CODE</th>\n",
       "      <th>SchoolName</th>\n",
       "      <th>TEST</th>\n",
       "      <th>Subject</th>\n",
       "      <th>SCH_AVG</th>\n",
       "      <th>STATE_AVG</th>\n",
       "      <th>DS_CODE</th>\n",
       "    </tr>\n",
       "  </thead>\n",
       "  <tbody>\n",
       "    <tr>\n",
       "      <th>0</th>\n",
       "      <td>110</td>\n",
       "      <td>10</td>\n",
       "      <td>ATLANTIC CITY HIGH SCHOOL</td>\n",
       "      <td>ACT: English</td>\n",
       "      <td>English</td>\n",
       "      <td>19</td>\n",
       "      <td>24</td>\n",
       "      <td>110-10</td>\n",
       "    </tr>\n",
       "    <tr>\n",
       "      <th>1</th>\n",
       "      <td>110</td>\n",
       "      <td>10</td>\n",
       "      <td>ATLANTIC CITY HIGH SCHOOL</td>\n",
       "      <td>ACT: Math</td>\n",
       "      <td>Math</td>\n",
       "      <td>21</td>\n",
       "      <td>24</td>\n",
       "      <td>110-10</td>\n",
       "    </tr>\n",
       "    <tr>\n",
       "      <th>2</th>\n",
       "      <td>110</td>\n",
       "      <td>10</td>\n",
       "      <td>ATLANTIC CITY HIGH SCHOOL</td>\n",
       "      <td>ACT: Reading</td>\n",
       "      <td>Reading</td>\n",
       "      <td>21</td>\n",
       "      <td>24</td>\n",
       "      <td>110-10</td>\n",
       "    </tr>\n",
       "    <tr>\n",
       "      <th>3</th>\n",
       "      <td>110</td>\n",
       "      <td>10</td>\n",
       "      <td>ATLANTIC CITY HIGH SCHOOL</td>\n",
       "      <td>ACT: Science</td>\n",
       "      <td>Science</td>\n",
       "      <td>20</td>\n",
       "      <td>23</td>\n",
       "      <td>110-10</td>\n",
       "    </tr>\n",
       "    <tr>\n",
       "      <th>4</th>\n",
       "      <td>110</td>\n",
       "      <td>10</td>\n",
       "      <td>ATLANTIC CITY HIGH SCHOOL</td>\n",
       "      <td>PSAT: Math</td>\n",
       "      <td>Math</td>\n",
       "      <td>428</td>\n",
       "      <td>478</td>\n",
       "      <td>110-10</td>\n",
       "    </tr>\n",
       "  </tbody>\n",
       "</table>\n",
       "</div>"
      ],
      "text/plain": [
       "   DISTRICT_CODE  SCHOOL_CODE                 SchoolName          TEST  \\\n",
       "0            110           10  ATLANTIC CITY HIGH SCHOOL  ACT: English   \n",
       "1            110           10  ATLANTIC CITY HIGH SCHOOL     ACT: Math   \n",
       "2            110           10  ATLANTIC CITY HIGH SCHOOL  ACT: Reading   \n",
       "3            110           10  ATLANTIC CITY HIGH SCHOOL  ACT: Science   \n",
       "4            110           10  ATLANTIC CITY HIGH SCHOOL    PSAT: Math   \n",
       "\n",
       "   Subject SCH_AVG  STATE_AVG DS_CODE  \n",
       "0  English      19         24  110-10  \n",
       "1     Math      21         24  110-10  \n",
       "2  Reading      21         24  110-10  \n",
       "3  Science      20         23  110-10  \n",
       "4     Math     428        478  110-10  "
      ]
     },
     "execution_count": 28,
     "metadata": {},
     "output_type": "execute_result"
    }
   ],
   "source": []
  },
  {
   "cell_type": "code",
   "execution_count": null,
   "metadata": {},
   "outputs": [],
   "source": []
  }
 ],
 "metadata": {
  "kernelspec": {
   "display_name": "PythonData",
   "language": "python",
   "name": "pythondata"
  },
  "language_info": {
   "codemirror_mode": {
    "name": "ipython",
    "version": 3
   },
   "file_extension": ".py",
   "mimetype": "text/x-python",
   "name": "python",
   "nbconvert_exporter": "python",
   "pygments_lexer": "ipython3",
   "version": "3.7.3"
  }
 },
 "nbformat": 4,
 "nbformat_minor": 2
}
